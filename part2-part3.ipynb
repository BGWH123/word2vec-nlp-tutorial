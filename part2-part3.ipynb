{
 "cells": [
  {
   "cell_type": "code",
   "execution_count": 1,
   "id": "50dedca5",
   "metadata": {
    "_cell_guid": "b1076dfc-b9ad-4769-8c92-a6c4dae69d19",
    "_uuid": "8f2839f25d086af736a60e9eeb907d3b93b6e0e5",
    "execution": {
     "iopub.execute_input": "2024-04-26T11:00:28.139307Z",
     "iopub.status.busy": "2024-04-26T11:00:28.138868Z",
     "iopub.status.idle": "2024-04-26T11:00:29.164608Z",
     "shell.execute_reply": "2024-04-26T11:00:29.163423Z"
    },
    "papermill": {
     "duration": 1.036829,
     "end_time": "2024-04-26T11:00:29.167817",
     "exception": false,
     "start_time": "2024-04-26T11:00:28.130988",
     "status": "completed"
    },
    "tags": []
   },
   "outputs": [
    {
     "name": "stdout",
     "output_type": "stream",
     "text": [
      "/kaggle/input/testdata/testData.tsv\n",
      "/kaggle/input/unlabeledtraindata/unlabeledTrainData.tsv\n",
      "/kaggle/input/labeledtraindata/labeledTrainData.tsv\n"
     ]
    }
   ],
   "source": [
    "# This Python 3 environment comes with many helpful analytics libraries installed\n",
    "# It is defined by the kaggle/python Docker image: https://github.com/kaggle/docker-python\n",
    "# For example, here's several helpful packages to load\n",
    "\n",
    "import numpy as np # linear algebra\n",
    "import pandas as pd # data processing, CSV file I/O (e.g. pd.read_csv)\n",
    "\n",
    "# Input data files are available in the read-only \"../input/\" directory\n",
    "# For example, running this (by clicking run or pressing Shift+Enter) will list all files under the input directory\n",
    "\n",
    "import os\n",
    "for dirname, _, filenames in os.walk('/kaggle/input'):\n",
    "    for filename in filenames:\n",
    "        print(os.path.join(dirname, filename))\n",
    "\n",
    "# You can write up to 20GB to the current directory (/kaggle/working/) that gets preserved as output when you create a version using \"Save & Run All\" \n",
    "# You can also write temporary files to /kaggle/temp/, but they won't be saved outside of the current session"
   ]
  },
  {
   "cell_type": "code",
   "execution_count": 2,
   "id": "e815b7e5",
   "metadata": {
    "execution": {
     "iopub.execute_input": "2024-04-26T11:00:29.182502Z",
     "iopub.status.busy": "2024-04-26T11:00:29.181480Z",
     "iopub.status.idle": "2024-04-26T11:00:32.627552Z",
     "shell.execute_reply": "2024-04-26T11:00:32.625661Z"
    },
    "papermill": {
     "duration": 3.457229,
     "end_time": "2024-04-26T11:00:32.631390",
     "exception": false,
     "start_time": "2024-04-26T11:00:29.174161",
     "status": "completed"
    },
    "tags": []
   },
   "outputs": [],
   "source": [
    "import pandas as pd\n",
    "train=pd.read_csv(\"/kaggle/input/labeledtraindata/labeledTrainData.tsv\",header=0,delimiter=\"\\t\",quoting=3)\n",
    "test = pd.read_csv(\"/kaggle/input/testdata/testData.tsv\", header=0, delimiter=\"\\t\", quoting=3)\n",
    "unlabeled_train = pd.read_csv(\"/kaggle/input/unlabeledtraindata/unlabeledTrainData.tsv\", header=0,delimiter=\"\\t\", quoting=3)"
   ]
  },
  {
   "cell_type": "code",
   "execution_count": 3,
   "id": "551f719c",
   "metadata": {
    "execution": {
     "iopub.execute_input": "2024-04-26T11:00:32.648339Z",
     "iopub.status.busy": "2024-04-26T11:00:32.646530Z",
     "iopub.status.idle": "2024-04-26T11:00:32.663168Z",
     "shell.execute_reply": "2024-04-26T11:00:32.660990Z"
    },
    "papermill": {
     "duration": 0.028973,
     "end_time": "2024-04-26T11:00:32.666835",
     "exception": false,
     "start_time": "2024-04-26T11:00:32.637862",
     "status": "completed"
    },
    "tags": []
   },
   "outputs": [
    {
     "name": "stdout",
     "output_type": "stream",
     "text": [
      "25000\n",
      "25000\n",
      "50000\n"
     ]
    }
   ],
   "source": [
    "print(train[\"review\"].size)\n",
    "print(test[\"review\"].size)\n",
    "print(unlabeled_train[\"review\"].size)"
   ]
  },
  {
   "cell_type": "code",
   "execution_count": 4,
   "id": "d82ecf9d",
   "metadata": {
    "execution": {
     "iopub.execute_input": "2024-04-26T11:00:32.681608Z",
     "iopub.status.busy": "2024-04-26T11:00:32.681144Z",
     "iopub.status.idle": "2024-04-26T11:00:35.443437Z",
     "shell.execute_reply": "2024-04-26T11:00:35.441843Z"
    },
    "papermill": {
     "duration": 2.773308,
     "end_time": "2024-04-26T11:00:35.446644",
     "exception": false,
     "start_time": "2024-04-26T11:00:32.673336",
     "status": "completed"
    },
    "tags": []
   },
   "outputs": [],
   "source": [
    "from bs4 import BeautifulSoup\n",
    "import re\n",
    "from nltk.corpus import stopwords"
   ]
  },
  {
   "cell_type": "code",
   "execution_count": 5,
   "id": "7cd8a4e9",
   "metadata": {
    "execution": {
     "iopub.execute_input": "2024-04-26T11:00:35.461491Z",
     "iopub.status.busy": "2024-04-26T11:00:35.460795Z",
     "iopub.status.idle": "2024-04-26T11:00:35.469788Z",
     "shell.execute_reply": "2024-04-26T11:00:35.468570Z"
    },
    "papermill": {
     "duration": 0.019411,
     "end_time": "2024-04-26T11:00:35.472414",
     "exception": false,
     "start_time": "2024-04-26T11:00:35.453003",
     "status": "completed"
    },
    "tags": []
   },
   "outputs": [],
   "source": [
    "def review_to_wordlist(review, remove_stopwords=False):\n",
    "    # 函数将文档转换为单词序列，可选择性地移除停用词。返回单词列表。\n",
    "    #\n",
    "    # 1. 移除HTML\n",
    "    review_text = BeautifulSoup(review).get_text()\n",
    "    #\n",
    "    # 2. 移除非字母字符\n",
    "    review_text = re.sub(\"[^a-zA-Z]\", \" \", review_text)\n",
    "    #\n",
    "    # 3. 将单词转换为小写并分割它们\n",
    "    words = review_text.lower().split()\n",
    "    #\n",
    "    # 4. 可选择性地移除停用词（默认为False）\n",
    "    if remove_stopwords:\n",
    "        stops = set(stopwords.words(\"english\"))\n",
    "        words = [w for w in words if not w in stops]\n",
    "    #\n",
    "    # 5. 返回单词列表\n",
    "    return words"
   ]
  },
  {
   "cell_type": "code",
   "execution_count": 6,
   "id": "449bb0b3",
   "metadata": {
    "execution": {
     "iopub.execute_input": "2024-04-26T11:00:35.488173Z",
     "iopub.status.busy": "2024-04-26T11:00:35.487364Z",
     "iopub.status.idle": "2024-04-26T11:00:35.509119Z",
     "shell.execute_reply": "2024-04-26T11:00:35.507817Z"
    },
    "papermill": {
     "duration": 0.033248,
     "end_time": "2024-04-26T11:00:35.512316",
     "exception": false,
     "start_time": "2024-04-26T11:00:35.479068",
     "status": "completed"
    },
    "tags": []
   },
   "outputs": [],
   "source": [
    "import nltk.data\n",
    "\n",
    "# 加载punkt分词器\n",
    "tokenizer = nltk.data.load('tokenizers/punkt/english.pickle')"
   ]
  },
  {
   "cell_type": "code",
   "execution_count": 7,
   "id": "5d476d06",
   "metadata": {
    "execution": {
     "iopub.execute_input": "2024-04-26T11:00:35.527359Z",
     "iopub.status.busy": "2024-04-26T11:00:35.526704Z",
     "iopub.status.idle": "2024-04-26T11:00:35.534170Z",
     "shell.execute_reply": "2024-04-26T11:00:35.532837Z"
    },
    "papermill": {
     "duration": 0.018527,
     "end_time": "2024-04-26T11:00:35.537212",
     "exception": false,
     "start_time": "2024-04-26T11:00:35.518685",
     "status": "completed"
    },
    "tags": []
   },
   "outputs": [],
   "source": [
    "def review_to_sentences(review, tokenizer, remove_stopwords=False):\n",
    "    raw_sentences = tokenizer.tokenize(review.strip())\n",
    "    sentences=[]\n",
    "    for raw_sentence in raw_sentences:\n",
    "        if len(raw_sentence)>0:\n",
    "             sentences.append(review_to_wordlist(raw_sentence,remove_stopwords))\n",
    "    return sentences"
   ]
  },
  {
   "cell_type": "code",
   "execution_count": 8,
   "id": "d08dbf15",
   "metadata": {
    "execution": {
     "iopub.execute_input": "2024-04-26T11:00:35.551887Z",
     "iopub.status.busy": "2024-04-26T11:00:35.551404Z",
     "iopub.status.idle": "2024-04-26T11:02:02.830594Z",
     "shell.execute_reply": "2024-04-26T11:02:02.829526Z"
    },
    "papermill": {
     "duration": 87.289838,
     "end_time": "2024-04-26T11:02:02.833642",
     "exception": false,
     "start_time": "2024-04-26T11:00:35.543804",
     "status": "completed"
    },
    "tags": []
   },
   "outputs": [
    {
     "name": "stderr",
     "output_type": "stream",
     "text": [
      "/tmp/ipykernel_18/3932766883.py:5: MarkupResemblesLocatorWarning: The input looks more like a filename than markup. You may want to open this file and pass the filehandle into Beautiful Soup.\n",
      "  review_text = BeautifulSoup(review).get_text()\n",
      "/tmp/ipykernel_18/3932766883.py:5: MarkupResemblesLocatorWarning: The input looks more like a URL than markup. You may want to use an HTTP client like requests to get the document behind the URL, and feed that document to Beautiful Soup.\n",
      "  review_text = BeautifulSoup(review).get_text()\n"
     ]
    }
   ],
   "source": [
    "#特征工程 处理数据\n",
    "sentences=[]\n",
    "for review in train[\"review\"]:\n",
    "    sentences+=review_to_sentences(review,tokenizer)\n",
    "#print(sentences)"
   ]
  },
  {
   "cell_type": "code",
   "execution_count": 9,
   "id": "a50ca572",
   "metadata": {
    "execution": {
     "iopub.execute_input": "2024-04-26T11:02:02.848943Z",
     "iopub.status.busy": "2024-04-26T11:02:02.848503Z",
     "iopub.status.idle": "2024-04-26T11:04:56.944777Z",
     "shell.execute_reply": "2024-04-26T11:04:56.943391Z"
    },
    "papermill": {
     "duration": 174.107336,
     "end_time": "2024-04-26T11:04:56.947892",
     "exception": false,
     "start_time": "2024-04-26T11:02:02.840556",
     "status": "completed"
    },
    "tags": []
   },
   "outputs": [
    {
     "name": "stderr",
     "output_type": "stream",
     "text": [
      "/tmp/ipykernel_18/3932766883.py:5: MarkupResemblesLocatorWarning: The input looks more like a filename than markup. You may want to open this file and pass the filehandle into Beautiful Soup.\n",
      "  review_text = BeautifulSoup(review).get_text()\n",
      "/tmp/ipykernel_18/3932766883.py:5: MarkupResemblesLocatorWarning: The input looks more like a URL than markup. You may want to use an HTTP client like requests to get the document behind the URL, and feed that document to Beautiful Soup.\n",
      "  review_text = BeautifulSoup(review).get_text()\n"
     ]
    }
   ],
   "source": [
    "for review in unlabeled_train[\"review\"]:\n",
    "    sentences+=review_to_sentences(review,tokenizer)"
   ]
  },
  {
   "cell_type": "code",
   "execution_count": 10,
   "id": "1b0f7c79",
   "metadata": {
    "execution": {
     "iopub.execute_input": "2024-04-26T11:04:56.965503Z",
     "iopub.status.busy": "2024-04-26T11:04:56.965116Z",
     "iopub.status.idle": "2024-04-26T11:07:14.325352Z",
     "shell.execute_reply": "2024-04-26T11:07:14.323841Z"
    },
    "papermill": {
     "duration": 137.372847,
     "end_time": "2024-04-26T11:07:14.329421",
     "exception": false,
     "start_time": "2024-04-26T11:04:56.956574",
     "status": "completed"
    },
    "tags": []
   },
   "outputs": [],
   "source": [
    "import logging\n",
    "logging.basicConfig(format='%(asctime)s : %(levelname)s : %(message)s',level=logging.INFO)\n",
    "# 设置各种参数的值\n",
    "num_features = 300    # 词向量维度\n",
    "min_word_count = 40   # 最小词数\n",
    "num_workers = 4       # 并行运行的线程数\n",
    "context = 10          # 上下文窗口大小\n",
    "downsampling = 1e-3   # 频繁词的下采样设置\n",
    "from gensim.models import word2vec\n",
    "model = word2vec.Word2Vec(sentences, workers=num_workers, vector_size=num_features, min_count=min_word_count, window=context, sample=downsampling)\n",
    "model_name = \"300features_40minwords_10context\"\n",
    "model.save(model_name)"
   ]
  },
  {
   "cell_type": "code",
   "execution_count": 11,
   "id": "fd96b948",
   "metadata": {
    "execution": {
     "iopub.execute_input": "2024-04-26T11:07:14.348204Z",
     "iopub.status.busy": "2024-04-26T11:07:14.347808Z",
     "iopub.status.idle": "2024-04-26T11:07:14.368310Z",
     "shell.execute_reply": "2024-04-26T11:07:14.367140Z"
    },
    "papermill": {
     "duration": 0.032751,
     "end_time": "2024-04-26T11:07:14.371113",
     "exception": false,
     "start_time": "2024-04-26T11:07:14.338362",
     "status": "completed"
    },
    "tags": []
   },
   "outputs": [
    {
     "data": {
      "text/plain": [
       "'kitchen'"
      ]
     },
     "execution_count": 11,
     "metadata": {},
     "output_type": "execute_result"
    }
   ],
   "source": [
    "model.wv.doesnt_match(\"man woman child kitchen\".split())\n"
   ]
  },
  {
   "cell_type": "code",
   "execution_count": 12,
   "id": "0f43d77b",
   "metadata": {
    "execution": {
     "iopub.execute_input": "2024-04-26T11:07:14.387206Z",
     "iopub.status.busy": "2024-04-26T11:07:14.386826Z",
     "iopub.status.idle": "2024-04-26T11:07:14.394436Z",
     "shell.execute_reply": "2024-04-26T11:07:14.393161Z"
    },
    "papermill": {
     "duration": 0.018674,
     "end_time": "2024-04-26T11:07:14.397117",
     "exception": false,
     "start_time": "2024-04-26T11:07:14.378443",
     "status": "completed"
    },
    "tags": []
   },
   "outputs": [
    {
     "data": {
      "text/plain": [
       "numpy.ndarray"
      ]
     },
     "execution_count": 12,
     "metadata": {},
     "output_type": "execute_result"
    }
   ],
   "source": [
    "type(model.wv.vectors)"
   ]
  },
  {
   "cell_type": "code",
   "execution_count": 13,
   "id": "22cc06b5",
   "metadata": {
    "execution": {
     "iopub.execute_input": "2024-04-26T11:07:14.413888Z",
     "iopub.status.busy": "2024-04-26T11:07:14.413462Z",
     "iopub.status.idle": "2024-04-26T11:07:14.420833Z",
     "shell.execute_reply": "2024-04-26T11:07:14.419577Z"
    },
    "papermill": {
     "duration": 0.01866,
     "end_time": "2024-04-26T11:07:14.423262",
     "exception": false,
     "start_time": "2024-04-26T11:07:14.404602",
     "status": "completed"
    },
    "tags": []
   },
   "outputs": [
    {
     "data": {
      "text/plain": [
       "(16490, 300)"
      ]
     },
     "execution_count": 13,
     "metadata": {},
     "output_type": "execute_result"
    }
   ],
   "source": [
    "model.wv.vectors.shape"
   ]
  },
  {
   "cell_type": "code",
   "execution_count": 14,
   "id": "a21e9c13",
   "metadata": {
    "execution": {
     "iopub.execute_input": "2024-04-26T11:07:14.440904Z",
     "iopub.status.busy": "2024-04-26T11:07:14.439962Z",
     "iopub.status.idle": "2024-04-26T11:07:14.447762Z",
     "shell.execute_reply": "2024-04-26T11:07:14.446624Z"
    },
    "papermill": {
     "duration": 0.019344,
     "end_time": "2024-04-26T11:07:14.450277",
     "exception": false,
     "start_time": "2024-04-26T11:07:14.430933",
     "status": "completed"
    },
    "tags": []
   },
   "outputs": [],
   "source": [
    "import numpy as np\n",
    "def makeFeatureVec(words,model,num_features):#一维向量的平均值\n",
    "    featureVec = np.zeros((num_features,), dtype=\"float32\")\n",
    "    nwords=0.\n",
    "    ubdex2word_list=set(model.index2word)\n",
    "    for word in words:\n",
    "        if word in index2word_set: ##如果在词汇表中\n",
    "            nwords = nwords + 1.\n",
    "            featureVec = np.add(featureVec, model[word])\n",
    "    featureVec=np.divide(featureVec,nwords)\n",
    "    return featureVec"
   ]
  },
  {
   "cell_type": "code",
   "execution_count": 15,
   "id": "86a44a5d",
   "metadata": {
    "execution": {
     "iopub.execute_input": "2024-04-26T11:07:14.467660Z",
     "iopub.status.busy": "2024-04-26T11:07:14.467204Z",
     "iopub.status.idle": "2024-04-26T11:07:14.473924Z",
     "shell.execute_reply": "2024-04-26T11:07:14.472786Z"
    },
    "papermill": {
     "duration": 0.01814,
     "end_time": "2024-04-26T11:07:14.476172",
     "exception": false,
     "start_time": "2024-04-26T11:07:14.458032",
     "status": "completed"
    },
    "tags": []
   },
   "outputs": [],
   "source": [
    "def getAvgFeatureVecs(reviews, model, num_features):\n",
    "    counter=0.\n",
    "    reviewFeatureVecs = np.zeros((len(reviews), num_features), dtype=\"float32\")\n",
    "    for review in reviews:\n",
    "        reviewFeatureVecs[counter]=makeFeatureVec(review,model,num_features)\n",
    "        count=count+1\n",
    "    return reviewFeatureVecs"
   ]
  },
  {
   "cell_type": "code",
   "execution_count": 16,
   "id": "9dd1a0b4",
   "metadata": {
    "execution": {
     "iopub.execute_input": "2024-04-26T11:07:14.493345Z",
     "iopub.status.busy": "2024-04-26T11:07:14.492911Z",
     "iopub.status.idle": "2024-04-26T11:07:14.946930Z",
     "shell.execute_reply": "2024-04-26T11:07:14.945232Z"
    },
    "papermill": {
     "duration": 0.465238,
     "end_time": "2024-04-26T11:07:14.949157",
     "exception": true,
     "start_time": "2024-04-26T11:07:14.483919",
     "status": "failed"
    },
    "tags": []
   },
   "outputs": [
    {
     "ename": "AttributeError",
     "evalue": "'Word2Vec' object has no attribute 'index2word'",
     "output_type": "error",
     "traceback": [
      "\u001b[0;31m---------------------------------------------------------------------------\u001b[0m",
      "\u001b[0;31mAttributeError\u001b[0m                            Traceback (most recent call last)",
      "Cell \u001b[0;32mIn[16], line 4\u001b[0m\n\u001b[1;32m      2\u001b[0m \u001b[38;5;28;01mfor\u001b[39;00m review \u001b[38;5;129;01min\u001b[39;00m train[\u001b[38;5;124m\"\u001b[39m\u001b[38;5;124mreview\u001b[39m\u001b[38;5;124m\"\u001b[39m]:\n\u001b[1;32m      3\u001b[0m     clean_train_reviews\u001b[38;5;241m.\u001b[39mappend(review_to_wordlist(review,remove_stopwords\u001b[38;5;241m=\u001b[39m\u001b[38;5;28;01mTrue\u001b[39;00m))\u001b[38;5;66;03m##清理\u001b[39;00m\n\u001b[0;32m----> 4\u001b[0m     trainDataVecs\u001b[38;5;241m=\u001b[39m\u001b[43mgetAvgFeatureVecs\u001b[49m\u001b[43m(\u001b[49m\u001b[43mclean_train_reviews\u001b[49m\u001b[43m,\u001b[49m\u001b[43mmodel\u001b[49m\u001b[43m,\u001b[49m\u001b[43mnum_features\u001b[49m\u001b[43m)\u001b[49m\n\u001b[1;32m      5\u001b[0m clean_test_reviews\u001b[38;5;241m=\u001b[39m[]\n\u001b[1;32m      6\u001b[0m \u001b[38;5;28;01mfor\u001b[39;00m review \u001b[38;5;129;01min\u001b[39;00m test[\u001b[38;5;124m\"\u001b[39m\u001b[38;5;124mreview\u001b[39m\u001b[38;5;124m\"\u001b[39m]:\n",
      "Cell \u001b[0;32mIn[15], line 5\u001b[0m, in \u001b[0;36mgetAvgFeatureVecs\u001b[0;34m(reviews, model, num_features)\u001b[0m\n\u001b[1;32m      3\u001b[0m reviewFeatureVecs \u001b[38;5;241m=\u001b[39m np\u001b[38;5;241m.\u001b[39mzeros((\u001b[38;5;28mlen\u001b[39m(reviews), num_features), dtype\u001b[38;5;241m=\u001b[39m\u001b[38;5;124m\"\u001b[39m\u001b[38;5;124mfloat32\u001b[39m\u001b[38;5;124m\"\u001b[39m)\n\u001b[1;32m      4\u001b[0m \u001b[38;5;28;01mfor\u001b[39;00m review \u001b[38;5;129;01min\u001b[39;00m reviews:\n\u001b[0;32m----> 5\u001b[0m     reviewFeatureVecs[counter]\u001b[38;5;241m=\u001b[39m\u001b[43mmakeFeatureVec\u001b[49m\u001b[43m(\u001b[49m\u001b[43mreview\u001b[49m\u001b[43m,\u001b[49m\u001b[43mmodel\u001b[49m\u001b[43m,\u001b[49m\u001b[43mnum_features\u001b[49m\u001b[43m)\u001b[49m\n\u001b[1;32m      6\u001b[0m     count\u001b[38;5;241m=\u001b[39mcount\u001b[38;5;241m+\u001b[39m\u001b[38;5;241m1\u001b[39m\n\u001b[1;32m      7\u001b[0m \u001b[38;5;28;01mreturn\u001b[39;00m reviewFeatureVecs\n",
      "Cell \u001b[0;32mIn[14], line 5\u001b[0m, in \u001b[0;36mmakeFeatureVec\u001b[0;34m(words, model, num_features)\u001b[0m\n\u001b[1;32m      3\u001b[0m featureVec \u001b[38;5;241m=\u001b[39m np\u001b[38;5;241m.\u001b[39mzeros((num_features,), dtype\u001b[38;5;241m=\u001b[39m\u001b[38;5;124m\"\u001b[39m\u001b[38;5;124mfloat32\u001b[39m\u001b[38;5;124m\"\u001b[39m)\n\u001b[1;32m      4\u001b[0m nwords\u001b[38;5;241m=\u001b[39m\u001b[38;5;241m0.\u001b[39m\n\u001b[0;32m----> 5\u001b[0m ubdex2word_list\u001b[38;5;241m=\u001b[39m\u001b[38;5;28mset\u001b[39m(\u001b[43mmodel\u001b[49m\u001b[38;5;241;43m.\u001b[39;49m\u001b[43mindex2word\u001b[49m)\n\u001b[1;32m      6\u001b[0m \u001b[38;5;28;01mfor\u001b[39;00m word \u001b[38;5;129;01min\u001b[39;00m words:\n\u001b[1;32m      7\u001b[0m     \u001b[38;5;28;01mif\u001b[39;00m word \u001b[38;5;129;01min\u001b[39;00m index2word_set: \u001b[38;5;66;03m##如果在词汇表中\u001b[39;00m\n",
      "\u001b[0;31mAttributeError\u001b[0m: 'Word2Vec' object has no attribute 'index2word'"
     ]
    }
   ],
   "source": [
    "clean_train_reviews=[]\n",
    "for review in train[\"review\"]:\n",
    "    clean_train_reviews.append(review_to_wordlist(review,remove_stopwords=True))##清理\n",
    "    trainDataVecs=getAvgFeatureVecs(clean_train_reviews,model,num_features)\n",
    "clean_test_reviews=[]\n",
    "for review in test[\"review\"]:\n",
    "    clean_test_reviews.append(review_to_wordlist(review,remove_stopwords=True))##清理\n",
    "    testDataVecs=getAvgFeatureVecs(clean_test_reviews,model,num_features)"
   ]
  },
  {
   "cell_type": "code",
   "execution_count": null,
   "id": "aa21e0e2",
   "metadata": {
    "papermill": {
     "duration": null,
     "end_time": null,
     "exception": null,
     "start_time": null,
     "status": "pending"
    },
    "tags": []
   },
   "outputs": [],
   "source": [
    "from sklearn.ensemble import RandomForestClassifier"
   ]
  },
  {
   "cell_type": "code",
   "execution_count": null,
   "id": "0a6cf9ee",
   "metadata": {
    "papermill": {
     "duration": null,
     "end_time": null,
     "exception": null,
     "start_time": null,
     "status": "pending"
    },
    "tags": []
   },
   "outputs": [],
   "source": [
    "forest = RandomForestClassifier(n_estimators=100)\n",
    "forest = forest.fit(trainDataVecs, train[\"sentiment\"])\n",
    "result=forest.predict(testDataVecs)\n",
    "output = pd.DataFrame(data={\"id\": test[\"id\"], \"sentiment\": result})\n",
    "output.to_csv(\"Word2Vec_AverageVectors.csv\", index=False, quoting=3)"
   ]
  }
 ],
 "metadata": {
  "kaggle": {
   "accelerator": "none",
   "dataSources": [
    {
     "datasetId": 4883454,
     "sourceId": 8234009,
     "sourceType": "datasetVersion"
    },
    {
     "datasetId": 4883478,
     "sourceId": 8234036,
     "sourceType": "datasetVersion"
    },
    {
     "datasetId": 4883501,
     "sourceId": 8234062,
     "sourceType": "datasetVersion"
    }
   ],
   "dockerImageVersionId": 30698,
   "isGpuEnabled": false,
   "isInternetEnabled": false,
   "language": "python",
   "sourceType": "notebook"
  },
  "kernelspec": {
   "display_name": "Python 3",
   "language": "python",
   "name": "python3"
  },
  "language_info": {
   "codemirror_mode": {
    "name": "ipython",
    "version": 3
   },
   "file_extension": ".py",
   "mimetype": "text/x-python",
   "name": "python",
   "nbconvert_exporter": "python",
   "pygments_lexer": "ipython3",
   "version": "3.10.13"
  },
  "papermill": {
   "default_parameters": {},
   "duration": 412.640248,
   "end_time": "2024-04-26T11:07:17.578889",
   "environment_variables": {},
   "exception": true,
   "input_path": "__notebook__.ipynb",
   "output_path": "__notebook__.ipynb",
   "parameters": {},
   "start_time": "2024-04-26T11:00:24.938641",
   "version": "2.5.0"
  }
 },
 "nbformat": 4,
 "nbformat_minor": 5
}
