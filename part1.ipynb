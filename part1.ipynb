{
 "cells": [
  {
   "cell_type": "code",
   "execution_count": 1,
   "id": "68fc1f3e",
   "metadata": {
    "_cell_guid": "b1076dfc-b9ad-4769-8c92-a6c4dae69d19",
    "_uuid": "8f2839f25d086af736a60e9eeb907d3b93b6e0e5",
    "execution": {
     "iopub.execute_input": "2024-04-25T13:35:42.226507Z",
     "iopub.status.busy": "2024-04-25T13:35:42.225995Z",
     "iopub.status.idle": "2024-04-25T13:35:43.168824Z",
     "shell.execute_reply": "2024-04-25T13:35:43.167669Z"
    },
    "papermill": {
     "duration": 0.955038,
     "end_time": "2024-04-25T13:35:43.171653",
     "exception": false,
     "start_time": "2024-04-25T13:35:42.216615",
     "status": "completed"
    },
    "tags": []
   },
   "outputs": [
    {
     "name": "stdout",
     "output_type": "stream",
     "text": [
      "/kaggle/input/demo-0/labeledTrainData.tsv\n",
      "/kaggle/input/test-demo1/testData.tsv\n"
     ]
    }
   ],
   "source": [
    "# This Python 3 environment comes with many helpful analytics libraries installed\n",
    "# It is defined by the kaggle/python Docker image: https://github.com/kaggle/docker-python\n",
    "# For example, here's several helpful packages to load\n",
    "\n",
    "import numpy as np # linear algebra\n",
    "import pandas as pd # data processing, CSV file I/O (e.g. pd.read_csv)\n",
    "\n",
    "# Input data files are available in the read-only \"../input/\" directory\n",
    "# For example, running this (by clicking run or pressing Shift+Enter) will list all files under the input directory\n",
    "\n",
    "import os\n",
    "for dirname, _, filenames in os.walk('/kaggle/input'):\n",
    "    for filename in filenames:\n",
    "        print(os.path.join(dirname, filename))\n",
    "\n",
    "# You can write up to 20GB to the current directory (/kaggle/working/) that gets preserved as output when you create a version using \"Save & Run All\" \n",
    "# You can also write temporary files to /kaggle/temp/, but they won't be saved outside of the current session"
   ]
  },
  {
   "cell_type": "code",
   "execution_count": 2,
   "id": "7f4e3898",
   "metadata": {
    "execution": {
     "iopub.execute_input": "2024-04-25T13:35:43.187308Z",
     "iopub.status.busy": "2024-04-25T13:35:43.186411Z",
     "iopub.status.idle": "2024-04-25T13:35:44.023692Z",
     "shell.execute_reply": "2024-04-25T13:35:44.022469Z"
    },
    "papermill": {
     "duration": 0.848148,
     "end_time": "2024-04-25T13:35:44.026715",
     "exception": false,
     "start_time": "2024-04-25T13:35:43.178567",
     "status": "completed"
    },
    "tags": []
   },
   "outputs": [],
   "source": [
    "import pandas as pd\n",
    "train = pd.read_csv(\"/kaggle/input/demo-0/labeledTrainData.tsv\", header=0, delimiter=\"\\t\", quoting=3)"
   ]
  },
  {
   "cell_type": "code",
   "execution_count": 3,
   "id": "33454c21",
   "metadata": {
    "execution": {
     "iopub.execute_input": "2024-04-25T13:35:44.041994Z",
     "iopub.status.busy": "2024-04-25T13:35:44.041583Z",
     "iopub.status.idle": "2024-04-25T13:35:44.069928Z",
     "shell.execute_reply": "2024-04-25T13:35:44.068611Z"
    },
    "papermill": {
     "duration": 0.038851,
     "end_time": "2024-04-25T13:35:44.072426",
     "exception": false,
     "start_time": "2024-04-25T13:35:44.033575",
     "status": "completed"
    },
    "tags": []
   },
   "outputs": [
    {
     "data": {
      "text/html": [
       "<div>\n",
       "<style scoped>\n",
       "    .dataframe tbody tr th:only-of-type {\n",
       "        vertical-align: middle;\n",
       "    }\n",
       "\n",
       "    .dataframe tbody tr th {\n",
       "        vertical-align: top;\n",
       "    }\n",
       "\n",
       "    .dataframe thead th {\n",
       "        text-align: right;\n",
       "    }\n",
       "</style>\n",
       "<table border=\"1\" class=\"dataframe\">\n",
       "  <thead>\n",
       "    <tr style=\"text-align: right;\">\n",
       "      <th></th>\n",
       "      <th>id</th>\n",
       "      <th>sentiment</th>\n",
       "      <th>review</th>\n",
       "    </tr>\n",
       "  </thead>\n",
       "  <tbody>\n",
       "    <tr>\n",
       "      <th>0</th>\n",
       "      <td>\"5814_8\"</td>\n",
       "      <td>1</td>\n",
       "      <td>\"With all this stuff going down at the moment ...</td>\n",
       "    </tr>\n",
       "    <tr>\n",
       "      <th>1</th>\n",
       "      <td>\"2381_9\"</td>\n",
       "      <td>1</td>\n",
       "      <td>\"\\\"The Classic War of the Worlds\\\" by Timothy ...</td>\n",
       "    </tr>\n",
       "    <tr>\n",
       "      <th>2</th>\n",
       "      <td>\"7759_3\"</td>\n",
       "      <td>0</td>\n",
       "      <td>\"The film starts with a manager (Nicholas Bell...</td>\n",
       "    </tr>\n",
       "    <tr>\n",
       "      <th>3</th>\n",
       "      <td>\"3630_4\"</td>\n",
       "      <td>0</td>\n",
       "      <td>\"It must be assumed that those who praised thi...</td>\n",
       "    </tr>\n",
       "    <tr>\n",
       "      <th>4</th>\n",
       "      <td>\"9495_8\"</td>\n",
       "      <td>1</td>\n",
       "      <td>\"Superbly trashy and wondrously unpretentious ...</td>\n",
       "    </tr>\n",
       "    <tr>\n",
       "      <th>...</th>\n",
       "      <td>...</td>\n",
       "      <td>...</td>\n",
       "      <td>...</td>\n",
       "    </tr>\n",
       "    <tr>\n",
       "      <th>24995</th>\n",
       "      <td>\"3453_3\"</td>\n",
       "      <td>0</td>\n",
       "      <td>\"It seems like more consideration has gone int...</td>\n",
       "    </tr>\n",
       "    <tr>\n",
       "      <th>24996</th>\n",
       "      <td>\"5064_1\"</td>\n",
       "      <td>0</td>\n",
       "      <td>\"I don't believe they made this film. Complete...</td>\n",
       "    </tr>\n",
       "    <tr>\n",
       "      <th>24997</th>\n",
       "      <td>\"10905_3\"</td>\n",
       "      <td>0</td>\n",
       "      <td>\"Guy is a loser. Can't get girls, needs to bui...</td>\n",
       "    </tr>\n",
       "    <tr>\n",
       "      <th>24998</th>\n",
       "      <td>\"10194_3\"</td>\n",
       "      <td>0</td>\n",
       "      <td>\"This 30 minute documentary Buñuel made in the...</td>\n",
       "    </tr>\n",
       "    <tr>\n",
       "      <th>24999</th>\n",
       "      <td>\"8478_8\"</td>\n",
       "      <td>1</td>\n",
       "      <td>\"I saw this movie as a child and it broke my h...</td>\n",
       "    </tr>\n",
       "  </tbody>\n",
       "</table>\n",
       "<p>25000 rows × 3 columns</p>\n",
       "</div>"
      ],
      "text/plain": [
       "              id  sentiment                                             review\n",
       "0       \"5814_8\"          1  \"With all this stuff going down at the moment ...\n",
       "1       \"2381_9\"          1  \"\\\"The Classic War of the Worlds\\\" by Timothy ...\n",
       "2       \"7759_3\"          0  \"The film starts with a manager (Nicholas Bell...\n",
       "3       \"3630_4\"          0  \"It must be assumed that those who praised thi...\n",
       "4       \"9495_8\"          1  \"Superbly trashy and wondrously unpretentious ...\n",
       "...          ...        ...                                                ...\n",
       "24995   \"3453_3\"          0  \"It seems like more consideration has gone int...\n",
       "24996   \"5064_1\"          0  \"I don't believe they made this film. Complete...\n",
       "24997  \"10905_3\"          0  \"Guy is a loser. Can't get girls, needs to bui...\n",
       "24998  \"10194_3\"          0  \"This 30 minute documentary Buñuel made in the...\n",
       "24999   \"8478_8\"          1  \"I saw this movie as a child and it broke my h...\n",
       "\n",
       "[25000 rows x 3 columns]"
      ]
     },
     "execution_count": 3,
     "metadata": {},
     "output_type": "execute_result"
    }
   ],
   "source": [
    "train"
   ]
  },
  {
   "cell_type": "code",
   "execution_count": 4,
   "id": "d8ad8ac3",
   "metadata": {
    "execution": {
     "iopub.execute_input": "2024-04-25T13:35:44.088256Z",
     "iopub.status.busy": "2024-04-25T13:35:44.087403Z",
     "iopub.status.idle": "2024-04-25T13:35:46.274541Z",
     "shell.execute_reply": "2024-04-25T13:35:46.273178Z"
    },
    "papermill": {
     "duration": 2.198438,
     "end_time": "2024-04-25T13:35:46.277756",
     "exception": false,
     "start_time": "2024-04-25T13:35:44.079318",
     "status": "completed"
    },
    "tags": []
   },
   "outputs": [],
   "source": [
    "from bs4 import BeautifulSoup    \n",
    "import re\n",
    "import nltk\n",
    "#nltk.download('stopwords')\n",
    "from nltk.corpus import stopwords\n",
    "import warnings\n",
    "# 禁用特定警告\n",
    "warnings.filterwarnings(\"ignore\", category=UserWarning)\n",
    "# 在执行可能触发警告的代码之前添加上述代码片段\n"
   ]
  },
  {
   "cell_type": "code",
   "execution_count": 5,
   "id": "eab7a755",
   "metadata": {
    "execution": {
     "iopub.execute_input": "2024-04-25T13:35:46.293875Z",
     "iopub.status.busy": "2024-04-25T13:35:46.293113Z",
     "iopub.status.idle": "2024-04-25T13:35:46.302651Z",
     "shell.execute_reply": "2024-04-25T13:35:46.301435Z"
    },
    "papermill": {
     "duration": 0.020171,
     "end_time": "2024-04-25T13:35:46.305020",
     "exception": false,
     "start_time": "2024-04-25T13:35:46.284849",
     "status": "completed"
    },
    "tags": []
   },
   "outputs": [],
   "source": [
    "def review_to_words(raw_review):\n",
    "    # 函数将原始评论转换为单词字符串\n",
    "    # 输入是一个字符串（原始电影评论）\n",
    "    # 输出是一个字符串（预处理过的电影评论）\n",
    "    # 1. 移除HTML\n",
    "    review_text = BeautifulSoup(raw_review).get_text()\n",
    "    # 2. 移除非字母字符\n",
    "    letters_only = re.sub(\"[^a-zA-Z]\", \" \", review_text)\n",
    "    # 3. 转换为小写，分割成单个单词\n",
    "    words = letters_only.lower().split()\n",
    "    # 4. 在Python中，搜索集合比搜索列表要快得多，因此将停用词转换为集合\n",
    "    stops = set(stopwords.words(\"english\"))\n",
    "    # 5. 移除停用词\n",
    "    meaningful_words = [w for w in words if not w in stops]\n",
    "    # 6. 将单词重新组合成一个由空格分隔的字符串，并返回结果\n",
    "    return(\" \".join(meaningful_words))\n",
    "    #移除HTML：使用 BeautifulSoup 库从原始评论中移除所有的HTML标签，只留下纯文本。\n",
    "\n",
    "#移除非字母字符：使用正则表达式通过 re.sub 函数替换掉所有非字母字符，只保留字母，并将它们转换为小写。\n",
    "\n",
    "#转换为小写，分割成单个单词：将文本转换为小写，然后分割成单词列表。\n",
    "\n",
    "#创建停用词集合：使用 nltk 库中的 stopwords 集合，创建一个停用词的集合。停用词是指在文本分析中通常会被忽略的词，如“the”、“is”、“and”等，因为它们对于理解文本的含义贡献不大。\n",
    "\n",
    "#移除停用词：从单词列表中移除所有的停用词。\n",
    "\n",
    "#将单词重新组合：将清洗后的单词列表重新组合成一个由空格分隔的单个字符串。"
   ]
  },
  {
   "cell_type": "code",
   "execution_count": 6,
   "id": "90065b3d",
   "metadata": {
    "execution": {
     "iopub.execute_input": "2024-04-25T13:35:46.321102Z",
     "iopub.status.busy": "2024-04-25T13:35:46.320115Z",
     "iopub.status.idle": "2024-04-25T13:36:07.573340Z",
     "shell.execute_reply": "2024-04-25T13:36:07.572128Z"
    },
    "papermill": {
     "duration": 21.264309,
     "end_time": "2024-04-25T13:36:07.576337",
     "exception": false,
     "start_time": "2024-04-25T13:35:46.312028",
     "status": "completed"
    },
    "tags": []
   },
   "outputs": [],
   "source": [
    "#所有\n",
    "# 根据数据框列的大小获取评论数量\n",
    "#num_reviews = train[\"review\"].size\n",
    "\n",
    "# 初始化一个空列表来保存清洗后的评论\n",
    "clean_train_reviews = []\n",
    "# 循环遍历每个评论；创建一个从0到电影评论列表长度的索引i\n",
    "for i in range(0, len(train[\"review\"])):\n",
    "    # 为我们的函数调用每一个评论，并把结果添加到清洗后的评论列表中\n",
    "    clean_train_reviews.append(review_to_words(train[\"review\"][i]))"
   ]
  },
  {
   "cell_type": "code",
   "execution_count": 7,
   "id": "305c251b",
   "metadata": {
    "execution": {
     "iopub.execute_input": "2024-04-25T13:36:07.592080Z",
     "iopub.status.busy": "2024-04-25T13:36:07.591664Z",
     "iopub.status.idle": "2024-04-25T13:36:12.583973Z",
     "shell.execute_reply": "2024-04-25T13:36:12.582644Z"
    },
    "papermill": {
     "duration": 5.00342,
     "end_time": "2024-04-25T13:36:12.586878",
     "exception": false,
     "start_time": "2024-04-25T13:36:07.583458",
     "status": "completed"
    },
    "tags": []
   },
   "outputs": [],
   "source": [
    "from sklearn.feature_extraction.text import CountVectorizer\n",
    "transfer=CountVectorizer(analyzer=\"word\",  \n",
    "                             tokenizer=None,  \n",
    "                             preprocessor=None, \n",
    "                             stop_words=None,  \n",
    "                             max_features=5000) \n",
    "#特征工程\n",
    "train_data_features=transfer.fit_transform(clean_train_reviews)\n",
    "train_data_features = train_data_features.toarray()"
   ]
  },
  {
   "cell_type": "code",
   "execution_count": 8,
   "id": "ad347721",
   "metadata": {
    "execution": {
     "iopub.execute_input": "2024-04-25T13:36:12.604060Z",
     "iopub.status.busy": "2024-04-25T13:36:12.603661Z",
     "iopub.status.idle": "2024-04-25T13:36:12.609791Z",
     "shell.execute_reply": "2024-04-25T13:36:12.608555Z"
    },
    "papermill": {
     "duration": 0.018365,
     "end_time": "2024-04-25T13:36:12.612756",
     "exception": false,
     "start_time": "2024-04-25T13:36:12.594391",
     "status": "completed"
    },
    "tags": []
   },
   "outputs": [
    {
     "name": "stdout",
     "output_type": "stream",
     "text": [
      "(25000, 5000)\n"
     ]
    }
   ],
   "source": [
    "print(train_data_features.shape)"
   ]
  },
  {
   "cell_type": "code",
   "execution_count": 9,
   "id": "6de1f553",
   "metadata": {
    "execution": {
     "iopub.execute_input": "2024-04-25T13:36:12.629476Z",
     "iopub.status.busy": "2024-04-25T13:36:12.628598Z",
     "iopub.status.idle": "2024-04-25T13:37:11.724801Z",
     "shell.execute_reply": "2024-04-25T13:37:11.723329Z"
    },
    "papermill": {
     "duration": 59.107565,
     "end_time": "2024-04-25T13:37:11.727849",
     "exception": false,
     "start_time": "2024-04-25T13:36:12.620284",
     "status": "completed"
    },
    "tags": []
   },
   "outputs": [],
   "source": [
    "\n",
    "from sklearn.ensemble import RandomForestClassifier\n",
    "rf = RandomForestClassifier(n_estimators=100)\n",
    "rf = rf.fit(train_data_features, train[\"sentiment\"])"
   ]
  },
  {
   "cell_type": "code",
   "execution_count": 10,
   "id": "8384231a",
   "metadata": {
    "execution": {
     "iopub.execute_input": "2024-04-25T13:37:11.744224Z",
     "iopub.status.busy": "2024-04-25T13:37:11.743785Z",
     "iopub.status.idle": "2024-04-25T13:37:12.589230Z",
     "shell.execute_reply": "2024-04-25T13:37:12.587864Z"
    },
    "papermill": {
     "duration": 0.857015,
     "end_time": "2024-04-25T13:37:12.592327",
     "exception": false,
     "start_time": "2024-04-25T13:37:11.735312",
     "status": "completed"
    },
    "tags": []
   },
   "outputs": [],
   "source": [
    "test = pd.read_csv(\"/kaggle/input/test-demo1/testData.tsv\", header=0, delimiter=\"\\t\",  \n",
    "                   quoting=3)\n"
   ]
  },
  {
   "cell_type": "code",
   "execution_count": 11,
   "id": "5cf8e2cd",
   "metadata": {
    "execution": {
     "iopub.execute_input": "2024-04-25T13:37:12.608630Z",
     "iopub.status.busy": "2024-04-25T13:37:12.608195Z",
     "iopub.status.idle": "2024-04-25T13:37:12.614139Z",
     "shell.execute_reply": "2024-04-25T13:37:12.612965Z"
    },
    "papermill": {
     "duration": 0.017385,
     "end_time": "2024-04-25T13:37:12.616893",
     "exception": false,
     "start_time": "2024-04-25T13:37:12.599508",
     "status": "completed"
    },
    "tags": []
   },
   "outputs": [],
   "source": [
    "num_reviews = len(test[\"review\"])\n",
    "clean_test_reviews = []"
   ]
  },
  {
   "cell_type": "code",
   "execution_count": 12,
   "id": "53392816",
   "metadata": {
    "execution": {
     "iopub.execute_input": "2024-04-25T13:37:12.633924Z",
     "iopub.status.busy": "2024-04-25T13:37:12.633468Z",
     "iopub.status.idle": "2024-04-25T13:37:33.951569Z",
     "shell.execute_reply": "2024-04-25T13:37:33.950002Z"
    },
    "papermill": {
     "duration": 21.329725,
     "end_time": "2024-04-25T13:37:33.955004",
     "exception": false,
     "start_time": "2024-04-25T13:37:12.625279",
     "status": "completed"
    },
    "tags": []
   },
   "outputs": [],
   "source": [
    "for i in range(0, len(test[\"review\"])):\n",
    "    # 为我们的函数调用每一个评论，并把结果添加到清洗后的评论列表中\n",
    "    clean_test_reviews.append(review_to_words(train[\"review\"][i]))"
   ]
  },
  {
   "cell_type": "code",
   "execution_count": 13,
   "id": "52eb1886",
   "metadata": {
    "execution": {
     "iopub.execute_input": "2024-04-25T13:37:33.974177Z",
     "iopub.status.busy": "2024-04-25T13:37:33.973665Z",
     "iopub.status.idle": "2024-04-25T13:37:39.329061Z",
     "shell.execute_reply": "2024-04-25T13:37:39.327594Z"
    },
    "papermill": {
     "duration": 5.367102,
     "end_time": "2024-04-25T13:37:39.331960",
     "exception": false,
     "start_time": "2024-04-25T13:37:33.964858",
     "status": "completed"
    },
    "tags": []
   },
   "outputs": [],
   "source": [
    "test_data_features = transfer.transform(clean_test_reviews)\n",
    "test_data_features = test_data_features.toarray()"
   ]
  },
  {
   "cell_type": "code",
   "execution_count": 14,
   "id": "4a6ca36b",
   "metadata": {
    "execution": {
     "iopub.execute_input": "2024-04-25T13:37:39.349143Z",
     "iopub.status.busy": "2024-04-25T13:37:39.348712Z",
     "iopub.status.idle": "2024-04-25T13:37:42.119327Z",
     "shell.execute_reply": "2024-04-25T13:37:42.118200Z"
    },
    "papermill": {
     "duration": 2.782149,
     "end_time": "2024-04-25T13:37:42.122259",
     "exception": false,
     "start_time": "2024-04-25T13:37:39.340110",
     "status": "completed"
    },
    "tags": []
   },
   "outputs": [],
   "source": [
    "result = rf.predict(test_data_features)"
   ]
  },
  {
   "cell_type": "code",
   "execution_count": 15,
   "id": "37c68558",
   "metadata": {
    "execution": {
     "iopub.execute_input": "2024-04-25T13:37:42.139337Z",
     "iopub.status.busy": "2024-04-25T13:37:42.138240Z",
     "iopub.status.idle": "2024-04-25T13:37:42.145499Z",
     "shell.execute_reply": "2024-04-25T13:37:42.144403Z"
    },
    "papermill": {
     "duration": 0.018969,
     "end_time": "2024-04-25T13:37:42.148219",
     "exception": false,
     "start_time": "2024-04-25T13:37:42.129250",
     "status": "completed"
    },
    "tags": []
   },
   "outputs": [],
   "source": [
    "output = pd.DataFrame(data={\"id\": test[\"id\"], \"sentiment\": result})"
   ]
  },
  {
   "cell_type": "code",
   "execution_count": 16,
   "id": "137dfc37",
   "metadata": {
    "execution": {
     "iopub.execute_input": "2024-04-25T13:37:42.163919Z",
     "iopub.status.busy": "2024-04-25T13:37:42.163499Z",
     "iopub.status.idle": "2024-04-25T13:37:42.208314Z",
     "shell.execute_reply": "2024-04-25T13:37:42.206637Z"
    },
    "papermill": {
     "duration": 0.056044,
     "end_time": "2024-04-25T13:37:42.211134",
     "exception": false,
     "start_time": "2024-04-25T13:37:42.155090",
     "status": "completed"
    },
    "tags": []
   },
   "outputs": [],
   "source": [
    "output.to_csv(\"Bag_of_Words_model.csv\", index=False, quoting=3)"
   ]
  },
  {
   "cell_type": "code",
   "execution_count": null,
   "id": "d0b9064b",
   "metadata": {
    "papermill": {
     "duration": 0.006503,
     "end_time": "2024-04-25T13:37:42.224739",
     "exception": false,
     "start_time": "2024-04-25T13:37:42.218236",
     "status": "completed"
    },
    "tags": []
   },
   "outputs": [],
   "source": []
  }
 ],
 "metadata": {
  "kaggle": {
   "accelerator": "none",
   "dataSources": [
    {
     "datasetId": 4878673,
     "sourceId": 8227522,
     "sourceType": "datasetVersion"
    },
    {
     "datasetId": 4878728,
     "sourceId": 8227591,
     "sourceType": "datasetVersion"
    }
   ],
   "dockerImageVersionId": 30702,
   "isGpuEnabled": false,
   "isInternetEnabled": false,
   "language": "python",
   "sourceType": "notebook"
  },
  "kernelspec": {
   "display_name": "Python 3",
   "language": "python",
   "name": "python3"
  },
  "language_info": {
   "codemirror_mode": {
    "name": "ipython",
    "version": 3
   },
   "file_extension": ".py",
   "mimetype": "text/x-python",
   "name": "python",
   "nbconvert_exporter": "python",
   "pygments_lexer": "ipython3",
   "version": "3.10.13"
  },
  "papermill": {
   "default_parameters": {},
   "duration": 123.9693,
   "end_time": "2024-04-25T13:37:43.155944",
   "environment_variables": {},
   "exception": null,
   "input_path": "__notebook__.ipynb",
   "output_path": "__notebook__.ipynb",
   "parameters": {},
   "start_time": "2024-04-25T13:35:39.186644",
   "version": "2.5.0"
  }
 },
 "nbformat": 4,
 "nbformat_minor": 5
}
